{
 "cells": [
  {
   "cell_type": "code",
   "execution_count": 9,
   "id": "cordless-canadian",
   "metadata": {},
   "outputs": [],
   "source": [
    "import keras\n",
    "import matplotlib\n",
    "import matplotlib.pyplot as plt\n",
    "import numpy as np\n",
    "from sklearn.model_selection import cross_val_score\n",
    "from sklearn.linear_model import LogisticRegressionCV\n",
    "import tensorflow\n",
    "import seaborn as sns\n",
    "from sklearn.metrics import confusion_matrix\n",
    "\n",
    "(x_train, y_train), (x_test, y_test) = keras.datasets.fashion_mnist.load_data()\n",
    "x_train = keras.utils.normalize(x_train, axis=1)\n",
    "x_test = keras.utils.normalize(x_test, axis=1)\n",
    "\n",
    "\n",
    "Class_labels = ['Tshirt', 'Trouser', 'Pullover', 'Dress', 'Coat', 'Sandal', 'Shirt', 'Sneaker', 'Bag', 'Ankle Boot']\n",
    "\n",
    "model = keras.models.Sequential()\n",
    "model.add(keras.layers.Flatten())\n",
    "model.add(keras.layers.Dense(128, activation=tensorflow.nn.relu))\n",
    "model.add(keras.layers.Dense(128, activation=tensorflow.nn.relu))\n",
    "model.add(keras.layers.Dense(128, activation=tensorflow.nn.relu))\n",
    "model.add(keras.layers.Dense(10, activation=tensorflow.nn.softmax))\n",
    "\n",
    "model.compile(optimizer=\"adam\", loss=\"sparse_categorical_crossentropy\", metrics=[\"accuracy\"])\n",
    "\n",
    "model.fit(x_train, y_train , epochs=3)\n",
    "\n",
    "val_loss, val_acc = model.evaluate(x_test, y_test)\n",
    "\n",
    "predictions = model.predict([x_test])\n",
    "\n",
    "np.argmax(predictions[30])\n",
    "\n",
    "plt.imshow(x_test[30])\n",
    "\n",
    "Confusion Matrix\n",
    "\n",
    "CM = confusion_matrix(y_test, [np.argmax(i) for i in predictions])\n",
    "\n",
    "sns.heatmap(CM, annot=True, fmt=\"d\")\n",
    "\n",
    "Classificatio Report\n",
    "\n",
    "from sklearn.metrics import classification_report\n",
    "CR = classification_report(y_test, [np.argmax(i) for i in predictions], target_names=Class_labels)\n",
    "\n",
    "print(CR)\n",
    "\n"
   ]
  }
 ],
 "metadata": {
  "kernelspec": {
   "display_name": "Python 3",
   "language": "python",
   "name": "python3"
  },
  "language_info": {
   "codemirror_mode": {
    "name": "ipython",
    "version": 3
   },
   "file_extension": ".py",
   "mimetype": "text/x-python",
   "name": "python",
   "nbconvert_exporter": "python",
   "pygments_lexer": "ipython3",
   "version": "3.8.7"
  }
 },
 "nbformat": 4,
 "nbformat_minor": 5
}
